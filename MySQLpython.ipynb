{
 "cells": [
  {
   "cell_type": "code",
   "execution_count": 13,
   "metadata": {},
   "outputs": [],
   "source": [
    "\n",
    "import mysql.connector "
   ]
  },
  {
   "cell_type": "code",
   "execution_count": 14,
   "metadata": {},
   "outputs": [
    {
     "name": "stdout",
     "output_type": "stream",
     "text": [
      "<mysql.connector.connection_cext.CMySQLConnection object at 0x1126d4400>\n"
     ]
    }
   ],
   "source": [
    "mydb = mysql.connector.connect( host='localhost', \n",
    "                                user='root', \n",
    "                                password='colossus',\n",
    "                                database='sql_store')\n",
    "print(mydb)\n"
   ]
  },
  {
   "cell_type": "code",
   "execution_count": 15,
   "metadata": {},
   "outputs": [
    {
     "name": "stdout",
     "output_type": "stream",
     "text": [
      "('information_schema',)\n",
      "('mydatabase',)\n",
      "('mysql',)\n",
      "('performance_schema',)\n",
      "('sql_hr',)\n",
      "('sql_inventory',)\n",
      "('sql_invoicing',)\n",
      "('sql_store',)\n",
      "('sys',)\n",
      "('testdb',)\n"
     ]
    }
   ],
   "source": [
    "\n",
    "mycursor=mydb.cursor()\n",
    "mycursor.execute(\"SHOW DATABASES\")\n",
    "for x in mycursor:\n",
    " print(x)"
   ]
  },
  {
   "cell_type": "code",
   "execution_count": 16,
   "metadata": {},
   "outputs": [
    {
     "name": "stdout",
     "output_type": "stream",
     "text": [
      "('customers',)\n",
      "('order_item_notes',)\n",
      "('order_items',)\n",
      "('order_statuses',)\n",
      "('orders',)\n",
      "('products',)\n",
      "('shippers',)\n"
     ]
    }
   ],
   "source": [
    "mycursor.execute(\"SHOW TABLES\")\n",
    "for x in mycursor:\n",
    "    print(x)"
   ]
  },
  {
   "cell_type": "code",
   "execution_count": 17,
   "metadata": {},
   "outputs": [
    {
     "name": "stdout",
     "output_type": "stream",
     "text": [
      "(1, 'Babara', 'MacCaffrey', datetime.date(1986, 3, 28), '781-932-9754', '0 Sage Terrace', 'Waltham', 'MA', 2273)\n",
      "(2, 'Ines', 'Brushfield', datetime.date(1986, 4, 13), '804-427-9456', '14187 Commercial Trail', 'Hampton', 'VA', 947)\n",
      "(3, 'Freddi', 'Boagey', datetime.date(1985, 2, 7), '719-724-7869', '251 Springs Junction', 'Colorado Springs', 'CO', 2967)\n",
      "(4, 'Ambur', 'Roseburgh', datetime.date(1974, 4, 14), '407-231-8017', '30 Arapahoe Terrace', 'Orlando', 'FL', 457)\n",
      "(5, 'Clemmie', 'Betchley', datetime.date(1973, 11, 7), None, '5 Spohn Circle', 'Arlington', 'TX', 3675)\n",
      "(6, 'Elka', 'Twiddell', datetime.date(1991, 9, 4), '312-480-8498', '7 Manley Drive', 'Chicago', 'IL', 3073)\n",
      "(7, 'Ilene', 'Dowson', datetime.date(1964, 8, 30), '615-641-4759', '50 Lillian Crossing', 'Nashville', 'TN', 1672)\n",
      "(8, 'Thacher', 'Naseby', datetime.date(1993, 7, 17), '941-527-3977', '538 Mosinee Center', 'Sarasota', 'FL', 205)\n",
      "(9, 'Romola', 'Rumgay', datetime.date(1992, 5, 23), '559-181-3744', '3520 Ohio Trail', 'Visalia', 'CA', 1486)\n",
      "(10, 'Levy', 'Mynett', datetime.date(1969, 10, 13), '404-246-3370', '68 Lawn Avenue', 'Atlanta', 'GA', 796)\n"
     ]
    }
   ],
   "source": [
    "mycursor.execute(\"SELECT * FROM customers\")\n",
    "myresult=mycursor.fetchall()\n",
    "for x in myresult:\n",
    "    print(x)"
   ]
  },
  {
   "cell_type": "code",
   "execution_count": 18,
   "metadata": {},
   "outputs": [
    {
     "name": "stdout",
     "output_type": "stream",
     "text": [
      "('Waltham',)\n",
      "('Hampton',)\n",
      "('Colorado Springs',)\n",
      "('Orlando',)\n",
      "('Arlington',)\n",
      "('Chicago',)\n",
      "('Nashville',)\n",
      "('Sarasota',)\n",
      "('Visalia',)\n",
      "('Atlanta',)\n"
     ]
    }
   ],
   "source": [
    "mycursor.execute('SELECT city FROM customers')\n",
    "myresult=mycursor.fetchall()\n",
    "for x in myresult:\n",
    "    print(x)"
   ]
  },
  {
   "cell_type": "code",
   "execution_count": null,
   "metadata": {},
   "outputs": [],
   "source": []
  }
 ],
 "metadata": {
  "kernelspec": {
   "display_name": "Python 3",
   "language": "python",
   "name": "python3"
  },
  "language_info": {
   "codemirror_mode": {
    "name": "ipython",
    "version": 3
   },
   "file_extension": ".py",
   "mimetype": "text/x-python",
   "name": "python",
   "nbconvert_exporter": "python",
   "pygments_lexer": "ipython3",
   "version": "3.9.6"
  },
  "orig_nbformat": 4
 },
 "nbformat": 4,
 "nbformat_minor": 2
}
